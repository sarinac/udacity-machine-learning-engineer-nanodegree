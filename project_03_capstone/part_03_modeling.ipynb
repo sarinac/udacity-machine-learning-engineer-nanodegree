{
 "cells": [
  {
   "cell_type": "markdown",
   "metadata": {},
   "source": [
    "# Modeling"
   ]
  },
  {
   "cell_type": "code",
   "execution_count": 36,
   "metadata": {},
   "outputs": [],
   "source": [
    "import pandas as pd\n",
    "import numpy as np\n",
    "from sklearn.model_selection import cross_validate\n",
    "from sklearn.metrics import make_scorer, accuracy_score, precision_score, recall_score, f1_score"
   ]
  },
  {
   "cell_type": "code",
   "execution_count": 28,
   "metadata": {},
   "outputs": [],
   "source": [
    "# Read data\n",
    "train = pd.read_csv(\"data/train.csv\")\n",
    "test = pd.read_csv(\"data/test.csv\")\n",
    "\n",
    "train_y = train[\"label\"]\n",
    "train_X = train.drop(columns=[\"label\"]).to_numpy()\n",
    "test_y = test[\"label\"]\n",
    "test_X = test.drop(columns=[\"label\"]).to_numpy()"
   ]
  },
  {
   "cell_type": "code",
   "execution_count": 29,
   "metadata": {},
   "outputs": [],
   "source": [
    "# Store model scores\n",
    "models = {\n",
    "    \"Model\": [],\n",
    "    \"Train Accuracy\": [],\n",
    "    \"Train F1\": [],\n",
    "    \"Train Precision\": [],\n",
    "    \"Train Recall\": [],\n",
    "    \"Test Accuracy\": [],\n",
    "    \"Test F1\": [],\n",
    "    \"Test Precision\": [],\n",
    "    \"Test Recall\": [],\n",
    "}"
   ]
  },
  {
   "cell_type": "code",
   "execution_count": 30,
   "metadata": {},
   "outputs": [],
   "source": [
    "def print_scores(accuracy, f1, precision, recall):\n",
    "    \"\"\"Print accuracy, f1, precision, and recall.\"\"\"\n",
    "    print(\"Accuracy: {}%\".format(accuracy))\n",
    "    print(\"F1: {}%\".format(f1))\n",
    "    print(\"Precision: {}%\".format(precision))\n",
    "    print(\"Recall: {}%\".format(recall))"
   ]
  },
  {
   "cell_type": "code",
   "execution_count": 31,
   "metadata": {},
   "outputs": [],
   "source": [
    "def get_scores(true_y, pred_y):\n",
    "    \"\"\"Get accuracy, f1, precision, and recall.\"\"\"\n",
    "    accuracy = round(100 * accuracy_score(true_y, pred_y), 1)\n",
    "    precision = round(100 * precision_score(true_y, pred_y), 1)\n",
    "    recall = round(100 * recall_score(true_y, pred_y), 1)\n",
    "    f1 = round(100 * f1_score(true_y, pred_y), 1)\n",
    "    \n",
    "    return (accuracy, f1, precision, recall)"
   ]
  },
  {
   "cell_type": "code",
   "execution_count": 32,
   "metadata": {},
   "outputs": [],
   "source": [
    "def run_model_no_cv(model_name, model, train_X, train_y, test_X, test_y):\n",
    "    \"\"\"Run model and add scores to models dict.\"\"\"\n",
    "    \n",
    "    # Fit model\n",
    "    model.fit(train_X, train_y)\n",
    "    \n",
    "    # Predict with train dataset\n",
    "    pred_train_y = model.predict(train_X)\n",
    "    \n",
    "    # Predict with test dataset\n",
    "    pred_test_y = model.predict(test_X)\n",
    "    \n",
    "    # Record model\n",
    "    models[\"Model\"].append(model_name)\n",
    "    \n",
    "    # Record train scores\n",
    "    accuracy, f1, precision, recall = get_scores(train_y, pred_train_y)\n",
    "    models[\"Train Accuracy\"].append(accuracy)\n",
    "    models[\"Train F1\"].append(f1)\n",
    "    models[\"Train Precision\"].append(precision)\n",
    "    models[\"Train Recall\"].append(recall)\n",
    "    \n",
    "    # Record test scores\n",
    "    accuracy, f1, precision, recall = get_scores(test_y, pred_test_y)\n",
    "    models[\"Test Accuracy\"].append(accuracy)\n",
    "    models[\"Test F1\"].append(f1)\n",
    "    models[\"Test Precision\"].append(precision)\n",
    "    models[\"Test Recall\"].append(recall)\n",
    "    \n",
    "    # Print test scores\n",
    "    print_scores(accuracy, f1, precision, recall)"
   ]
  },
  {
   "cell_type": "code",
   "execution_count": 34,
   "metadata": {},
   "outputs": [],
   "source": [
    "def run_model(model_name, model, train_X, train_y, test_X, test_y):\n",
    "    \"\"\"Run model and add scores to models dict.\"\"\"\n",
    "    \n",
    "    # Specify scorings for the cross validation\n",
    "    scoring = {\n",
    "        \"accuracy\": make_scorer(accuracy_score), \n",
    "        \"f1\": make_scorer(f1_score),\n",
    "        \"precision\": make_scorer(precision_score),\n",
    "        \"recall\": make_scorer(recall_score), \n",
    "    }\n",
    "    \n",
    "    # Fit model with CV (to record train scores with CV)\n",
    "    cv_results = cross_validate(model, train_X, train_y, cv=5, scoring=scoring)\n",
    "\n",
    "    # Fit model\n",
    "    model.fit(train_X, train_y)\n",
    "    \n",
    "    # Predict with test dataset\n",
    "    pred_test_y = model.predict(test_X)\n",
    "    \n",
    "    # Record model\n",
    "    models[\"Model\"].append(model_name)\n",
    "    \n",
    "    # Record train scores\n",
    "    models[\"Train Accuracy\"].append(round(100*cv_results[\"test_accuracy\"].mean(), 1))\n",
    "    models[\"Train F1\"].append(round(100*cv_results[\"test_f1\"].mean(), 1))\n",
    "    models[\"Train Precision\"].append(round(100*cv_results[\"test_precision\"].mean(), 1))\n",
    "    models[\"Train Recall\"].append(round(100*cv_results[\"test_recall\"].mean(), 1))\n",
    "    \n",
    "    # Record test scores\n",
    "    accuracy, f1, precision, recall = get_scores(test_y, pred_test_y)\n",
    "    models[\"Test Accuracy\"].append(accuracy)\n",
    "    models[\"Test F1\"].append(f1)\n",
    "    models[\"Test Precision\"].append(precision)\n",
    "    models[\"Test Recall\"].append(recall)\n",
    "    \n",
    "    # Print test scores\n",
    "    print_scores(accuracy, f1, precision, recall)"
   ]
  },
  {
   "cell_type": "markdown",
   "metadata": {},
   "source": [
    "## Benchmark Model"
   ]
  },
  {
   "cell_type": "code",
   "execution_count": 170,
   "metadata": {},
   "outputs": [],
   "source": [
    "from sklearn.neighbors import KNeighborsClassifier"
   ]
  },
  {
   "cell_type": "code",
   "execution_count": 171,
   "metadata": {},
   "outputs": [
    {
     "name": "stdout",
     "output_type": "stream",
     "text": [
      "Accuracy: 66.9%\n",
      "F1: 36.7%\n",
      "Precision: 56.9%\n",
      "Recall: 27.1%\n"
     ]
    }
   ],
   "source": [
    "knn = KNeighborsClassifier(n_neighbors=2)\n",
    "run_model_no_cv(\"KNN (no cross validation)\", knn, train_X, train_y, test_X, test_y)"
   ]
  },
  {
   "cell_type": "markdown",
   "metadata": {},
   "source": [
    "The benchmark model performs rather poorly with 67% accuracy but 37% F1 score. \n",
    "\n",
    "The precision is 57%. In other words, the model is only capturing 57% of the true population that would respond to the given offers. \n",
    "\n",
    "The recall of 27% is very low, which means that the model is assuming that customers won't respond to certain offers when they actually would have. Ideally, the recall should be high if the marketing campaign wanted to reach more people."
   ]
  },
  {
   "cell_type": "code",
   "execution_count": 172,
   "metadata": {},
   "outputs": [
    {
     "data": {
      "text/html": [
       "<div>\n",
       "<style scoped>\n",
       "    .dataframe tbody tr th:only-of-type {\n",
       "        vertical-align: middle;\n",
       "    }\n",
       "\n",
       "    .dataframe tbody tr th {\n",
       "        vertical-align: top;\n",
       "    }\n",
       "\n",
       "    .dataframe thead th {\n",
       "        text-align: right;\n",
       "    }\n",
       "</style>\n",
       "<table border=\"1\" class=\"dataframe\">\n",
       "  <thead>\n",
       "    <tr style=\"text-align: right;\">\n",
       "      <th></th>\n",
       "      <th>Model</th>\n",
       "      <th>Train Accuracy</th>\n",
       "      <th>Train F1</th>\n",
       "      <th>Train Precision</th>\n",
       "      <th>Train Recall</th>\n",
       "      <th>Test Accuracy</th>\n",
       "      <th>Test F1</th>\n",
       "      <th>Test Precision</th>\n",
       "      <th>Test Recall</th>\n",
       "    </tr>\n",
       "  </thead>\n",
       "  <tbody>\n",
       "    <tr>\n",
       "      <th>0</th>\n",
       "      <td>KNN (no cross validation)</td>\n",
       "      <td>82.1</td>\n",
       "      <td>66.2</td>\n",
       "      <td>100.0</td>\n",
       "      <td>49.5</td>\n",
       "      <td>66.9</td>\n",
       "      <td>36.7</td>\n",
       "      <td>56.9</td>\n",
       "      <td>27.1</td>\n",
       "    </tr>\n",
       "  </tbody>\n",
       "</table>\n",
       "</div>"
      ],
      "text/plain": [
       "                       Model  Train Accuracy  Train F1  Train Precision  \\\n",
       "0  KNN (no cross validation)            82.1      66.2            100.0   \n",
       "\n",
       "   Train Recall  Test Accuracy  Test F1  Test Precision  Test Recall  \n",
       "0          49.5           66.9     36.7            56.9         27.1  "
      ]
     },
     "execution_count": 172,
     "metadata": {},
     "output_type": "execute_result"
    }
   ],
   "source": [
    "pd.DataFrame(models)"
   ]
  },
  {
   "cell_type": "markdown",
   "metadata": {},
   "source": [
    "Seeing that the train dataset performs significantly better than the test dataset, the model is clearly overfitting. Cross-validation should help inform which model fits best with less overfitting. After choosing a type of model, tuning with regularization hyperparameters should help decrease overfitting even more."
   ]
  },
  {
   "cell_type": "code",
   "execution_count": 173,
   "metadata": {},
   "outputs": [
    {
     "name": "stdout",
     "output_type": "stream",
     "text": [
      "Accuracy: 66.9%\n",
      "F1: 36.7%\n",
      "Precision: 56.9%\n",
      "Recall: 27.1%\n"
     ]
    }
   ],
   "source": [
    "knn = KNeighborsClassifier(n_neighbors=2)\n",
    "run_model(\"KNN\", knn, train_X, train_y, test_X, test_y)"
   ]
  },
  {
   "cell_type": "markdown",
   "metadata": {},
   "source": [
    "## Preliminary Models"
   ]
  },
  {
   "cell_type": "markdown",
   "metadata": {},
   "source": [
    "Fit and test different types of models without tuning to see how they tend to perform. "
   ]
  },
  {
   "cell_type": "markdown",
   "metadata": {},
   "source": [
    "#### Support Vector Classification"
   ]
  },
  {
   "cell_type": "code",
   "execution_count": 11,
   "metadata": {},
   "outputs": [],
   "source": [
    "from sklearn.svm import LinearSVC, SVC"
   ]
  },
  {
   "cell_type": "code",
   "execution_count": 175,
   "metadata": {},
   "outputs": [
    {
     "name": "stderr",
     "output_type": "stream",
     "text": [
      "/Users/sarinachen/opt/anaconda3/lib/python3.8/site-packages/sklearn/svm/_base.py:976: ConvergenceWarning: Liblinear failed to converge, increase the number of iterations.\n",
      "  warnings.warn(\"Liblinear failed to converge, increase \"\n",
      "/Users/sarinachen/opt/anaconda3/lib/python3.8/site-packages/sklearn/svm/_base.py:976: ConvergenceWarning: Liblinear failed to converge, increase the number of iterations.\n",
      "  warnings.warn(\"Liblinear failed to converge, increase \"\n",
      "/Users/sarinachen/opt/anaconda3/lib/python3.8/site-packages/sklearn/svm/_base.py:976: ConvergenceWarning: Liblinear failed to converge, increase the number of iterations.\n",
      "  warnings.warn(\"Liblinear failed to converge, increase \"\n",
      "/Users/sarinachen/opt/anaconda3/lib/python3.8/site-packages/sklearn/svm/_base.py:976: ConvergenceWarning: Liblinear failed to converge, increase the number of iterations.\n",
      "  warnings.warn(\"Liblinear failed to converge, increase \"\n",
      "/Users/sarinachen/opt/anaconda3/lib/python3.8/site-packages/sklearn/svm/_base.py:976: ConvergenceWarning: Liblinear failed to converge, increase the number of iterations.\n",
      "  warnings.warn(\"Liblinear failed to converge, increase \"\n"
     ]
    },
    {
     "name": "stdout",
     "output_type": "stream",
     "text": [
      "Accuracy: 66.5%\n",
      "F1: 34.8%\n",
      "Precision: 56.2%\n",
      "Recall: 25.2%\n"
     ]
    },
    {
     "name": "stderr",
     "output_type": "stream",
     "text": [
      "/Users/sarinachen/opt/anaconda3/lib/python3.8/site-packages/sklearn/svm/_base.py:976: ConvergenceWarning: Liblinear failed to converge, increase the number of iterations.\n",
      "  warnings.warn(\"Liblinear failed to converge, increase \"\n"
     ]
    }
   ],
   "source": [
    "svc = LinearSVC(random_state=42)\n",
    "run_model(\"Linear SVC\", svc, train_X, train_y, test_X, test_y)"
   ]
  },
  {
   "cell_type": "code",
   "execution_count": 176,
   "metadata": {},
   "outputs": [
    {
     "name": "stdout",
     "output_type": "stream",
     "text": [
      "Accuracy: 71.3%\n",
      "F1: 49.0%\n",
      "Precision: 66.4%\n",
      "Recall: 38.8%\n"
     ]
    }
   ],
   "source": [
    "svc = SVC(random_state=42)\n",
    "run_model(\"SVC (RGB)\", svc, train_X, train_y, test_X, test_y)"
   ]
  },
  {
   "cell_type": "markdown",
   "metadata": {},
   "source": [
    "#### Logistic Regression"
   ]
  },
  {
   "cell_type": "code",
   "execution_count": 177,
   "metadata": {},
   "outputs": [],
   "source": [
    "from sklearn.linear_model import LogisticRegression"
   ]
  },
  {
   "cell_type": "code",
   "execution_count": 178,
   "metadata": {},
   "outputs": [
    {
     "name": "stdout",
     "output_type": "stream",
     "text": [
      "Accuracy: 66.4%\n",
      "F1: 36.1%\n",
      "Precision: 55.5%\n",
      "Recall: 26.7%\n"
     ]
    }
   ],
   "source": [
    "lr = LogisticRegression(random_state=42)\n",
    "run_model(\"Logistic Regression\", lr, train_X, train_y, test_X, test_y)"
   ]
  },
  {
   "cell_type": "markdown",
   "metadata": {},
   "source": [
    "#### Decision Tree Classification"
   ]
  },
  {
   "cell_type": "code",
   "execution_count": 179,
   "metadata": {},
   "outputs": [],
   "source": [
    "from sklearn.tree import DecisionTreeClassifier"
   ]
  },
  {
   "cell_type": "code",
   "execution_count": 180,
   "metadata": {},
   "outputs": [
    {
     "name": "stdout",
     "output_type": "stream",
     "text": [
      "Accuracy: 64.5%\n",
      "F1: 50.3%\n",
      "Precision: 50.0%\n",
      "Recall: 50.7%\n"
     ]
    }
   ],
   "source": [
    "dtc = DecisionTreeClassifier(random_state=42)\n",
    "run_model(\"Decision Tree\", dtc, train_X, train_y, test_X, test_y)"
   ]
  },
  {
   "cell_type": "markdown",
   "metadata": {},
   "source": [
    "#### Ensemble Models"
   ]
  },
  {
   "cell_type": "code",
   "execution_count": 181,
   "metadata": {},
   "outputs": [],
   "source": [
    "from sklearn.ensemble import RandomForestClassifier"
   ]
  },
  {
   "cell_type": "code",
   "execution_count": 182,
   "metadata": {},
   "outputs": [
    {
     "name": "stdout",
     "output_type": "stream",
     "text": [
      "Accuracy: 70.5%\n",
      "F1: 54.0%\n",
      "Precision: 60.5%\n",
      "Recall: 48.8%\n"
     ]
    }
   ],
   "source": [
    "rfc = RandomForestClassifier(random_state=42)\n",
    "run_model(\"Random Forest\", rfc, train_X, train_y, test_X, test_y)"
   ]
  },
  {
   "cell_type": "code",
   "execution_count": 8,
   "metadata": {},
   "outputs": [],
   "source": [
    "from sklearn.ensemble import GradientBoostingClassifier"
   ]
  },
  {
   "cell_type": "code",
   "execution_count": 184,
   "metadata": {},
   "outputs": [
    {
     "name": "stdout",
     "output_type": "stream",
     "text": [
      "Accuracy: 72.1%\n",
      "F1: 52.1%\n",
      "Precision: 66.7%\n",
      "Recall: 42.8%\n"
     ]
    }
   ],
   "source": [
    "gbc = GradientBoostingClassifier(random_state=42)\n",
    "run_model(\"Gradient Boosting\", gbc, train_X, train_y, test_X, test_y)"
   ]
  },
  {
   "cell_type": "code",
   "execution_count": 185,
   "metadata": {},
   "outputs": [
    {
     "data": {
      "text/html": [
       "<div>\n",
       "<style scoped>\n",
       "    .dataframe tbody tr th:only-of-type {\n",
       "        vertical-align: middle;\n",
       "    }\n",
       "\n",
       "    .dataframe tbody tr th {\n",
       "        vertical-align: top;\n",
       "    }\n",
       "\n",
       "    .dataframe thead th {\n",
       "        text-align: right;\n",
       "    }\n",
       "</style>\n",
       "<table border=\"1\" class=\"dataframe\">\n",
       "  <thead>\n",
       "    <tr style=\"text-align: right;\">\n",
       "      <th></th>\n",
       "      <th>Model</th>\n",
       "      <th>Train Accuracy</th>\n",
       "      <th>Train F1</th>\n",
       "      <th>Train Precision</th>\n",
       "      <th>Train Recall</th>\n",
       "      <th>Test Accuracy</th>\n",
       "      <th>Test F1</th>\n",
       "      <th>Test Precision</th>\n",
       "      <th>Test Recall</th>\n",
       "    </tr>\n",
       "  </thead>\n",
       "  <tbody>\n",
       "    <tr>\n",
       "      <th>0</th>\n",
       "      <td>KNN (no cross validation)</td>\n",
       "      <td>82.100000</td>\n",
       "      <td>66.200000</td>\n",
       "      <td>100.000000</td>\n",
       "      <td>49.500000</td>\n",
       "      <td>66.9</td>\n",
       "      <td>36.7</td>\n",
       "      <td>56.9</td>\n",
       "      <td>27.1</td>\n",
       "    </tr>\n",
       "    <tr>\n",
       "      <th>1</th>\n",
       "      <td>KNN</td>\n",
       "      <td>0.673029</td>\n",
       "      <td>0.375939</td>\n",
       "      <td>0.581462</td>\n",
       "      <td>0.277836</td>\n",
       "      <td>66.9</td>\n",
       "      <td>36.7</td>\n",
       "      <td>56.9</td>\n",
       "      <td>27.1</td>\n",
       "    </tr>\n",
       "    <tr>\n",
       "      <th>2</th>\n",
       "      <td>Linear SVC</td>\n",
       "      <td>0.666574</td>\n",
       "      <td>0.355790</td>\n",
       "      <td>0.565735</td>\n",
       "      <td>0.259840</td>\n",
       "      <td>66.5</td>\n",
       "      <td>34.8</td>\n",
       "      <td>56.2</td>\n",
       "      <td>25.2</td>\n",
       "    </tr>\n",
       "    <tr>\n",
       "      <th>3</th>\n",
       "      <td>SVC (RGB)</td>\n",
       "      <td>0.713606</td>\n",
       "      <td>0.488128</td>\n",
       "      <td>0.666302</td>\n",
       "      <td>0.385182</td>\n",
       "      <td>71.3</td>\n",
       "      <td>49.0</td>\n",
       "      <td>66.4</td>\n",
       "      <td>38.8</td>\n",
       "    </tr>\n",
       "    <tr>\n",
       "      <th>4</th>\n",
       "      <td>Logistic Regression</td>\n",
       "      <td>0.665156</td>\n",
       "      <td>0.366474</td>\n",
       "      <td>0.557353</td>\n",
       "      <td>0.273311</td>\n",
       "      <td>66.4</td>\n",
       "      <td>36.1</td>\n",
       "      <td>55.5</td>\n",
       "      <td>26.7</td>\n",
       "    </tr>\n",
       "    <tr>\n",
       "      <th>5</th>\n",
       "      <td>Decission Tree</td>\n",
       "      <td>0.633067</td>\n",
       "      <td>0.489620</td>\n",
       "      <td>0.482989</td>\n",
       "      <td>0.496474</td>\n",
       "      <td>64.5</td>\n",
       "      <td>50.3</td>\n",
       "      <td>50.0</td>\n",
       "      <td>50.7</td>\n",
       "    </tr>\n",
       "    <tr>\n",
       "      <th>6</th>\n",
       "      <td>Random Forest</td>\n",
       "      <td>0.697431</td>\n",
       "      <td>0.527090</td>\n",
       "      <td>0.591099</td>\n",
       "      <td>0.475637</td>\n",
       "      <td>70.5</td>\n",
       "      <td>54.0</td>\n",
       "      <td>60.5</td>\n",
       "      <td>48.8</td>\n",
       "    </tr>\n",
       "    <tr>\n",
       "      <th>7</th>\n",
       "      <td>Gradient Boosting</td>\n",
       "      <td>0.717916</td>\n",
       "      <td>0.512961</td>\n",
       "      <td>0.661523</td>\n",
       "      <td>0.419071</td>\n",
       "      <td>72.1</td>\n",
       "      <td>52.1</td>\n",
       "      <td>66.7</td>\n",
       "      <td>42.8</td>\n",
       "    </tr>\n",
       "  </tbody>\n",
       "</table>\n",
       "</div>"
      ],
      "text/plain": [
       "                       Model  Train Accuracy   Train F1  Train Precision  \\\n",
       "0  KNN (no cross validation)       82.100000  66.200000       100.000000   \n",
       "1                        KNN        0.673029   0.375939         0.581462   \n",
       "2                 Linear SVC        0.666574   0.355790         0.565735   \n",
       "3                  SVC (RGB)        0.713606   0.488128         0.666302   \n",
       "4        Logistic Regression        0.665156   0.366474         0.557353   \n",
       "5             Decission Tree        0.633067   0.489620         0.482989   \n",
       "6              Random Forest        0.697431   0.527090         0.591099   \n",
       "7          Gradient Boosting        0.717916   0.512961         0.661523   \n",
       "\n",
       "   Train Recall  Test Accuracy  Test F1  Test Precision  Test Recall  \n",
       "0     49.500000           66.9     36.7            56.9         27.1  \n",
       "1      0.277836           66.9     36.7            56.9         27.1  \n",
       "2      0.259840           66.5     34.8            56.2         25.2  \n",
       "3      0.385182           71.3     49.0            66.4         38.8  \n",
       "4      0.273311           66.4     36.1            55.5         26.7  \n",
       "5      0.496474           64.5     50.3            50.0         50.7  \n",
       "6      0.475637           70.5     54.0            60.5         48.8  \n",
       "7      0.419071           72.1     52.1            66.7         42.8  "
      ]
     },
     "execution_count": 185,
     "metadata": {},
     "output_type": "execute_result"
    }
   ],
   "source": [
    "# See fitting results and how well they score against test data\n",
    "pd.DataFrame(models)"
   ]
  },
  {
   "cell_type": "markdown",
   "metadata": {},
   "source": [
    "The first model KNN shows that the model overfits and requires cross-validation to reflect a more realistic score. With cross-validation in the subsequent, the training scores reflect test scores better. Later on, some ways of handling overfitting include adding more data (which we don't have), reducing the number of features, and using regularization.\n",
    "\n",
    "Out of the 7 types of models, the 2 ensemble models perform the best, with **Gradient Boosting** slightly better than **Random Forest**.\n",
    "\n",
    "**Decision Tree** and **Support Vector Classifier** also have better F1 scores than the benchmark model.\n",
    "\n",
    "For tuning models, I will pick 2 models to experiment with. Even though the last 2 models performed the best, I am choosing to tune the Gradient Boosting Classifier and Support Vector Classifier, which are 2 different types of models (as opposed to both ensemble models)."
   ]
  },
  {
   "cell_type": "markdown",
   "metadata": {},
   "source": [
    "## Hyperparameter Tuning"
   ]
  },
  {
   "cell_type": "code",
   "execution_count": 9,
   "metadata": {},
   "outputs": [],
   "source": [
    "from sklearn.model_selection import KFold\n",
    "from sklearn.model_selection import GridSearchCV"
   ]
  },
  {
   "cell_type": "markdown",
   "metadata": {},
   "source": [
    "#### Support Vector Machine"
   ]
  },
  {
   "cell_type": "code",
   "execution_count": 55,
   "metadata": {},
   "outputs": [
    {
     "name": "stdout",
     "output_type": "stream",
     "text": [
      "Fitting 5 folds for each of 4 candidates, totalling 20 fits\n"
     ]
    },
    {
     "name": "stderr",
     "output_type": "stream",
     "text": [
      "[Parallel(n_jobs=-1)]: Using backend LokyBackend with 8 concurrent workers.\n",
      "[Parallel(n_jobs=-1)]: Done   2 tasks      | elapsed:  3.0min\n",
      "[Parallel(n_jobs=-1)]: Done  10 out of  20 | elapsed:  7.6min remaining:  7.6min\n",
      "[Parallel(n_jobs=-1)]: Done  15 out of  20 | elapsed:  8.6min remaining:  2.9min\n",
      "[Parallel(n_jobs=-1)]: Done  20 out of  20 | elapsed:  9.3min remaining:    0.0s\n",
      "[Parallel(n_jobs=-1)]: Done  20 out of  20 | elapsed:  9.3min finished\n"
     ]
    },
    {
     "data": {
      "text/plain": [
       "{'C': 1, 'gamma': 1}"
      ]
     },
     "execution_count": 55,
     "metadata": {},
     "output_type": "execute_result"
    }
   ],
   "source": [
    "model=SVC()\n",
    "\n",
    "# Larger C (more punishment on penalty) => overfit, Larger gamma => overfit \n",
    "param_grid = {\"C\": [1, .01], \"gamma\": [10, 1]}\n",
    "\n",
    "kfold = KFold(n_splits=5)\n",
    "grid_search = GridSearchCV(model, param_grid, cv=kfold, scoring='f1', n_jobs=-1, verbose=5)\n",
    "grid_search.fit(train_X, train_y)\n",
    "grid_search.best_params_"
   ]
  },
  {
   "cell_type": "code",
   "execution_count": 13,
   "metadata": {},
   "outputs": [
    {
     "name": "stdout",
     "output_type": "stream",
     "text": [
      "Fitting 5 folds for each of 9 candidates, totalling 45 fits\n"
     ]
    },
    {
     "name": "stderr",
     "output_type": "stream",
     "text": [
      "[Parallel(n_jobs=-1)]: Using backend LokyBackend with 8 concurrent workers.\n",
      "[Parallel(n_jobs=-1)]: Done   2 tasks      | elapsed:  1.4min\n",
      "/Users/sarinachen/opt/anaconda3/lib/python3.8/site-packages/joblib/externals/loky/process_executor.py:688: UserWarning: A worker stopped while some jobs were given to the executor. This can be caused by a too short worker timeout or by a memory leak.\n",
      "  warnings.warn(\n",
      "[Parallel(n_jobs=-1)]: Done  40 out of  45 | elapsed:  9.5min remaining:  1.2min\n",
      "[Parallel(n_jobs=-1)]: Done  45 out of  45 | elapsed: 10.2min finished\n"
     ]
    },
    {
     "data": {
      "text/plain": [
       "{'C': 1, 'gamma': 1}"
      ]
     },
     "execution_count": 13,
     "metadata": {},
     "output_type": "execute_result"
    }
   ],
   "source": [
    "model=SVC()\n",
    "\n",
    "# Larger C (more punishment on penalty) => overfit, Larger gamma => overfit \n",
    "param_grid = {\"C\": [1, .01, .001], \"gamma\": [1, .1, .01]}\n",
    "\n",
    "kfold = KFold(n_splits=5)\n",
    "grid_search = GridSearchCV(model, param_grid, cv=kfold, scoring='f1', n_jobs=-1, verbose=5)\n",
    "grid_search.fit(train_X, train_y)\n",
    "grid_search.best_params_"
   ]
  },
  {
   "cell_type": "code",
   "execution_count": 22,
   "metadata": {},
   "outputs": [
    {
     "data": {
      "text/html": [
       "<div>\n",
       "<style scoped>\n",
       "    .dataframe tbody tr th:only-of-type {\n",
       "        vertical-align: middle;\n",
       "    }\n",
       "\n",
       "    .dataframe tbody tr th {\n",
       "        vertical-align: top;\n",
       "    }\n",
       "\n",
       "    .dataframe thead th {\n",
       "        text-align: right;\n",
       "    }\n",
       "</style>\n",
       "<table border=\"1\" class=\"dataframe\">\n",
       "  <thead>\n",
       "    <tr style=\"text-align: right;\">\n",
       "      <th></th>\n",
       "      <th>mean_fit_time</th>\n",
       "      <th>std_fit_time</th>\n",
       "      <th>mean_score_time</th>\n",
       "      <th>std_score_time</th>\n",
       "      <th>param_C</th>\n",
       "      <th>param_gamma</th>\n",
       "      <th>params</th>\n",
       "      <th>split0_test_score</th>\n",
       "      <th>split1_test_score</th>\n",
       "      <th>split2_test_score</th>\n",
       "      <th>split3_test_score</th>\n",
       "      <th>split4_test_score</th>\n",
       "      <th>mean_test_score</th>\n",
       "      <th>std_test_score</th>\n",
       "      <th>rank_test_score</th>\n",
       "    </tr>\n",
       "  </thead>\n",
       "  <tbody>\n",
       "    <tr>\n",
       "      <th>0</th>\n",
       "      <td>177.368824</td>\n",
       "      <td>24.821479</td>\n",
       "      <td>11.326293</td>\n",
       "      <td>0.134378</td>\n",
       "      <td>1</td>\n",
       "      <td>1</td>\n",
       "      <td>{'C': 1, 'gamma': 1}</td>\n",
       "      <td>0.504933</td>\n",
       "      <td>0.513110</td>\n",
       "      <td>0.507564</td>\n",
       "      <td>0.512926</td>\n",
       "      <td>0.502144</td>\n",
       "      <td>0.508135</td>\n",
       "      <td>0.004340</td>\n",
       "      <td>1</td>\n",
       "    </tr>\n",
       "    <tr>\n",
       "      <th>1</th>\n",
       "      <td>76.787069</td>\n",
       "      <td>3.001430</td>\n",
       "      <td>9.986992</td>\n",
       "      <td>0.367901</td>\n",
       "      <td>1</td>\n",
       "      <td>0.1</td>\n",
       "      <td>{'C': 1, 'gamma': 0.1}</td>\n",
       "      <td>0.491205</td>\n",
       "      <td>0.495310</td>\n",
       "      <td>0.502667</td>\n",
       "      <td>0.488616</td>\n",
       "      <td>0.489627</td>\n",
       "      <td>0.493485</td>\n",
       "      <td>0.005127</td>\n",
       "      <td>2</td>\n",
       "    </tr>\n",
       "    <tr>\n",
       "      <th>2</th>\n",
       "      <td>74.275015</td>\n",
       "      <td>2.803524</td>\n",
       "      <td>11.466666</td>\n",
       "      <td>0.588392</td>\n",
       "      <td>1</td>\n",
       "      <td>0.01</td>\n",
       "      <td>{'C': 1, 'gamma': 0.01}</td>\n",
       "      <td>0.363671</td>\n",
       "      <td>0.352019</td>\n",
       "      <td>0.368379</td>\n",
       "      <td>0.362165</td>\n",
       "      <td>0.329775</td>\n",
       "      <td>0.355202</td>\n",
       "      <td>0.013788</td>\n",
       "      <td>3</td>\n",
       "    </tr>\n",
       "    <tr>\n",
       "      <th>4</th>\n",
       "      <td>85.826534</td>\n",
       "      <td>3.007520</td>\n",
       "      <td>12.623096</td>\n",
       "      <td>0.246241</td>\n",
       "      <td>0.01</td>\n",
       "      <td>0.1</td>\n",
       "      <td>{'C': 0.01, 'gamma': 0.1}</td>\n",
       "      <td>0.257322</td>\n",
       "      <td>0.249947</td>\n",
       "      <td>0.266696</td>\n",
       "      <td>0.258934</td>\n",
       "      <td>0.226053</td>\n",
       "      <td>0.251790</td>\n",
       "      <td>0.013926</td>\n",
       "      <td>4</td>\n",
       "    </tr>\n",
       "    <tr>\n",
       "      <th>3</th>\n",
       "      <td>89.364387</td>\n",
       "      <td>2.085711</td>\n",
       "      <td>12.780059</td>\n",
       "      <td>0.241913</td>\n",
       "      <td>0.01</td>\n",
       "      <td>1</td>\n",
       "      <td>{'C': 0.01, 'gamma': 1}</td>\n",
       "      <td>0.000000</td>\n",
       "      <td>0.001049</td>\n",
       "      <td>0.000539</td>\n",
       "      <td>0.000000</td>\n",
       "      <td>0.000520</td>\n",
       "      <td>0.000422</td>\n",
       "      <td>0.000393</td>\n",
       "      <td>5</td>\n",
       "    </tr>\n",
       "    <tr>\n",
       "      <th>5</th>\n",
       "      <td>84.387152</td>\n",
       "      <td>1.531406</td>\n",
       "      <td>12.641575</td>\n",
       "      <td>0.282472</td>\n",
       "      <td>0.01</td>\n",
       "      <td>0.01</td>\n",
       "      <td>{'C': 0.01, 'gamma': 0.01}</td>\n",
       "      <td>0.000000</td>\n",
       "      <td>0.000000</td>\n",
       "      <td>0.000000</td>\n",
       "      <td>0.000000</td>\n",
       "      <td>0.000000</td>\n",
       "      <td>0.000000</td>\n",
       "      <td>0.000000</td>\n",
       "      <td>6</td>\n",
       "    </tr>\n",
       "    <tr>\n",
       "      <th>6</th>\n",
       "      <td>82.336634</td>\n",
       "      <td>3.530188</td>\n",
       "      <td>13.279525</td>\n",
       "      <td>0.422779</td>\n",
       "      <td>0.001</td>\n",
       "      <td>1</td>\n",
       "      <td>{'C': 0.001, 'gamma': 1}</td>\n",
       "      <td>0.000000</td>\n",
       "      <td>0.000000</td>\n",
       "      <td>0.000000</td>\n",
       "      <td>0.000000</td>\n",
       "      <td>0.000000</td>\n",
       "      <td>0.000000</td>\n",
       "      <td>0.000000</td>\n",
       "      <td>6</td>\n",
       "    </tr>\n",
       "    <tr>\n",
       "      <th>7</th>\n",
       "      <td>89.430690</td>\n",
       "      <td>1.781649</td>\n",
       "      <td>12.681464</td>\n",
       "      <td>0.441327</td>\n",
       "      <td>0.001</td>\n",
       "      <td>0.1</td>\n",
       "      <td>{'C': 0.001, 'gamma': 0.1}</td>\n",
       "      <td>0.000000</td>\n",
       "      <td>0.000000</td>\n",
       "      <td>0.000000</td>\n",
       "      <td>0.000000</td>\n",
       "      <td>0.000000</td>\n",
       "      <td>0.000000</td>\n",
       "      <td>0.000000</td>\n",
       "      <td>6</td>\n",
       "    </tr>\n",
       "    <tr>\n",
       "      <th>8</th>\n",
       "      <td>65.989669</td>\n",
       "      <td>18.905263</td>\n",
       "      <td>8.015471</td>\n",
       "      <td>2.359072</td>\n",
       "      <td>0.001</td>\n",
       "      <td>0.01</td>\n",
       "      <td>{'C': 0.001, 'gamma': 0.01}</td>\n",
       "      <td>0.000000</td>\n",
       "      <td>0.000000</td>\n",
       "      <td>0.000000</td>\n",
       "      <td>0.000000</td>\n",
       "      <td>0.000000</td>\n",
       "      <td>0.000000</td>\n",
       "      <td>0.000000</td>\n",
       "      <td>6</td>\n",
       "    </tr>\n",
       "  </tbody>\n",
       "</table>\n",
       "</div>"
      ],
      "text/plain": [
       "   mean_fit_time  std_fit_time  mean_score_time  std_score_time param_C  \\\n",
       "0     177.368824     24.821479        11.326293        0.134378       1   \n",
       "1      76.787069      3.001430         9.986992        0.367901       1   \n",
       "2      74.275015      2.803524        11.466666        0.588392       1   \n",
       "4      85.826534      3.007520        12.623096        0.246241    0.01   \n",
       "3      89.364387      2.085711        12.780059        0.241913    0.01   \n",
       "5      84.387152      1.531406        12.641575        0.282472    0.01   \n",
       "6      82.336634      3.530188        13.279525        0.422779   0.001   \n",
       "7      89.430690      1.781649        12.681464        0.441327   0.001   \n",
       "8      65.989669     18.905263         8.015471        2.359072   0.001   \n",
       "\n",
       "  param_gamma                       params  split0_test_score  \\\n",
       "0           1         {'C': 1, 'gamma': 1}           0.504933   \n",
       "1         0.1       {'C': 1, 'gamma': 0.1}           0.491205   \n",
       "2        0.01      {'C': 1, 'gamma': 0.01}           0.363671   \n",
       "4         0.1    {'C': 0.01, 'gamma': 0.1}           0.257322   \n",
       "3           1      {'C': 0.01, 'gamma': 1}           0.000000   \n",
       "5        0.01   {'C': 0.01, 'gamma': 0.01}           0.000000   \n",
       "6           1     {'C': 0.001, 'gamma': 1}           0.000000   \n",
       "7         0.1   {'C': 0.001, 'gamma': 0.1}           0.000000   \n",
       "8        0.01  {'C': 0.001, 'gamma': 0.01}           0.000000   \n",
       "\n",
       "   split1_test_score  split2_test_score  split3_test_score  split4_test_score  \\\n",
       "0           0.513110           0.507564           0.512926           0.502144   \n",
       "1           0.495310           0.502667           0.488616           0.489627   \n",
       "2           0.352019           0.368379           0.362165           0.329775   \n",
       "4           0.249947           0.266696           0.258934           0.226053   \n",
       "3           0.001049           0.000539           0.000000           0.000520   \n",
       "5           0.000000           0.000000           0.000000           0.000000   \n",
       "6           0.000000           0.000000           0.000000           0.000000   \n",
       "7           0.000000           0.000000           0.000000           0.000000   \n",
       "8           0.000000           0.000000           0.000000           0.000000   \n",
       "\n",
       "   mean_test_score  std_test_score  rank_test_score  \n",
       "0         0.508135        0.004340                1  \n",
       "1         0.493485        0.005127                2  \n",
       "2         0.355202        0.013788                3  \n",
       "4         0.251790        0.013926                4  \n",
       "3         0.000422        0.000393                5  \n",
       "5         0.000000        0.000000                6  \n",
       "6         0.000000        0.000000                6  \n",
       "7         0.000000        0.000000                6  \n",
       "8         0.000000        0.000000                6  "
      ]
     },
     "execution_count": 22,
     "metadata": {},
     "output_type": "execute_result"
    }
   ],
   "source": [
    "pd.DataFrame(grid_search.cv_results_).sort_values(by=\"rank_test_score\")"
   ]
  },
  {
   "cell_type": "code",
   "execution_count": 17,
   "metadata": {},
   "outputs": [
    {
     "name": "stdout",
     "output_type": "stream",
     "text": [
      "Fitting 5 folds for each of 4 candidates, totalling 20 fits\n"
     ]
    },
    {
     "name": "stderr",
     "output_type": "stream",
     "text": [
      "[Parallel(n_jobs=-1)]: Using backend LokyBackend with 8 concurrent workers.\n",
      "[Parallel(n_jobs=-1)]: Done   2 tasks      | elapsed:  1.6min\n",
      "[Parallel(n_jobs=-1)]: Done  10 out of  20 | elapsed:  3.4min remaining:  3.4min\n",
      "/Users/sarinachen/opt/anaconda3/lib/python3.8/site-packages/joblib/externals/loky/process_executor.py:688: UserWarning: A worker stopped while some jobs were given to the executor. This can be caused by a too short worker timeout or by a memory leak.\n",
      "  warnings.warn(\n",
      "[Parallel(n_jobs=-1)]: Done  15 out of  20 | elapsed:  4.2min remaining:  1.4min\n",
      "[Parallel(n_jobs=-1)]: Done  20 out of  20 | elapsed:  5.1min remaining:    0.0s\n",
      "[Parallel(n_jobs=-1)]: Done  20 out of  20 | elapsed:  5.1min finished\n"
     ]
    },
    {
     "data": {
      "text/plain": [
       "{'C': 1, 'gamma': 1}"
      ]
     },
     "execution_count": 17,
     "metadata": {},
     "output_type": "execute_result"
    }
   ],
   "source": [
    "# Try removing some features\n",
    "train_X2 = train.drop(columns=[\"label\", \"prior_number_transactions\", \"prior_received\", \"prior_spend_amt\"]).to_numpy()\n",
    "\n",
    "model=SVC()\n",
    "\n",
    "param_grid = {\"C\": [1, .03], \"gamma\": [1, .3]}\n",
    "\n",
    "kfold = KFold(n_splits=5)\n",
    "grid_search2 = GridSearchCV(model, param_grid, cv=kfold, scoring='f1', n_jobs=-1, verbose=5)\n",
    "grid_search2.fit(train_X2, train_y)\n",
    "grid_search2.best_params_"
   ]
  },
  {
   "cell_type": "code",
   "execution_count": 21,
   "metadata": {},
   "outputs": [
    {
     "data": {
      "text/html": [
       "<div>\n",
       "<style scoped>\n",
       "    .dataframe tbody tr th:only-of-type {\n",
       "        vertical-align: middle;\n",
       "    }\n",
       "\n",
       "    .dataframe tbody tr th {\n",
       "        vertical-align: top;\n",
       "    }\n",
       "\n",
       "    .dataframe thead th {\n",
       "        text-align: right;\n",
       "    }\n",
       "</style>\n",
       "<table border=\"1\" class=\"dataframe\">\n",
       "  <thead>\n",
       "    <tr style=\"text-align: right;\">\n",
       "      <th></th>\n",
       "      <th>mean_fit_time</th>\n",
       "      <th>std_fit_time</th>\n",
       "      <th>mean_score_time</th>\n",
       "      <th>std_score_time</th>\n",
       "      <th>param_C</th>\n",
       "      <th>param_gamma</th>\n",
       "      <th>params</th>\n",
       "      <th>split0_test_score</th>\n",
       "      <th>split1_test_score</th>\n",
       "      <th>split2_test_score</th>\n",
       "      <th>split3_test_score</th>\n",
       "      <th>split4_test_score</th>\n",
       "      <th>mean_test_score</th>\n",
       "      <th>std_test_score</th>\n",
       "      <th>rank_test_score</th>\n",
       "    </tr>\n",
       "  </thead>\n",
       "  <tbody>\n",
       "    <tr>\n",
       "      <th>0</th>\n",
       "      <td>132.186267</td>\n",
       "      <td>10.150113</td>\n",
       "      <td>9.589521</td>\n",
       "      <td>0.279560</td>\n",
       "      <td>1</td>\n",
       "      <td>1</td>\n",
       "      <td>{'C': 1, 'gamma': 1}</td>\n",
       "      <td>0.510182</td>\n",
       "      <td>0.518135</td>\n",
       "      <td>0.527368</td>\n",
       "      <td>0.507078</td>\n",
       "      <td>0.517662</td>\n",
       "      <td>0.516085</td>\n",
       "      <td>0.007071</td>\n",
       "      <td>1</td>\n",
       "    </tr>\n",
       "    <tr>\n",
       "      <th>1</th>\n",
       "      <td>98.506275</td>\n",
       "      <td>11.147708</td>\n",
       "      <td>8.866189</td>\n",
       "      <td>0.556816</td>\n",
       "      <td>1</td>\n",
       "      <td>0.3</td>\n",
       "      <td>{'C': 1, 'gamma': 0.3}</td>\n",
       "      <td>0.508947</td>\n",
       "      <td>0.510207</td>\n",
       "      <td>0.514629</td>\n",
       "      <td>0.500815</td>\n",
       "      <td>0.505692</td>\n",
       "      <td>0.508058</td>\n",
       "      <td>0.004619</td>\n",
       "      <td>2</td>\n",
       "    </tr>\n",
       "    <tr>\n",
       "      <th>3</th>\n",
       "      <td>79.376194</td>\n",
       "      <td>8.879311</td>\n",
       "      <td>10.860957</td>\n",
       "      <td>9.801024</td>\n",
       "      <td>0.03</td>\n",
       "      <td>0.3</td>\n",
       "      <td>{'C': 0.03, 'gamma': 0.3}</td>\n",
       "      <td>0.409302</td>\n",
       "      <td>0.423732</td>\n",
       "      <td>0.412171</td>\n",
       "      <td>0.411225</td>\n",
       "      <td>0.394450</td>\n",
       "      <td>0.410176</td>\n",
       "      <td>0.009348</td>\n",
       "      <td>3</td>\n",
       "    </tr>\n",
       "    <tr>\n",
       "      <th>2</th>\n",
       "      <td>86.790714</td>\n",
       "      <td>7.930210</td>\n",
       "      <td>10.428060</td>\n",
       "      <td>0.600005</td>\n",
       "      <td>0.03</td>\n",
       "      <td>1</td>\n",
       "      <td>{'C': 0.03, 'gamma': 1}</td>\n",
       "      <td>0.323752</td>\n",
       "      <td>0.329454</td>\n",
       "      <td>0.338063</td>\n",
       "      <td>0.326122</td>\n",
       "      <td>0.318209</td>\n",
       "      <td>0.327120</td>\n",
       "      <td>0.006587</td>\n",
       "      <td>4</td>\n",
       "    </tr>\n",
       "  </tbody>\n",
       "</table>\n",
       "</div>"
      ],
      "text/plain": [
       "   mean_fit_time  std_fit_time  mean_score_time  std_score_time param_C  \\\n",
       "0     132.186267     10.150113         9.589521        0.279560       1   \n",
       "1      98.506275     11.147708         8.866189        0.556816       1   \n",
       "3      79.376194      8.879311        10.860957        9.801024    0.03   \n",
       "2      86.790714      7.930210        10.428060        0.600005    0.03   \n",
       "\n",
       "  param_gamma                     params  split0_test_score  \\\n",
       "0           1       {'C': 1, 'gamma': 1}           0.510182   \n",
       "1         0.3     {'C': 1, 'gamma': 0.3}           0.508947   \n",
       "3         0.3  {'C': 0.03, 'gamma': 0.3}           0.409302   \n",
       "2           1    {'C': 0.03, 'gamma': 1}           0.323752   \n",
       "\n",
       "   split1_test_score  split2_test_score  split3_test_score  split4_test_score  \\\n",
       "0           0.518135           0.527368           0.507078           0.517662   \n",
       "1           0.510207           0.514629           0.500815           0.505692   \n",
       "3           0.423732           0.412171           0.411225           0.394450   \n",
       "2           0.329454           0.338063           0.326122           0.318209   \n",
       "\n",
       "   mean_test_score  std_test_score  rank_test_score  \n",
       "0         0.516085        0.007071                1  \n",
       "1         0.508058        0.004619                2  \n",
       "3         0.410176        0.009348                3  \n",
       "2         0.327120        0.006587                4  "
      ]
     },
     "execution_count": 21,
     "metadata": {},
     "output_type": "execute_result"
    }
   ],
   "source": [
    "pd.DataFrame(grid_search2.cv_results_).sort_values(by=\"rank_test_score\")"
   ]
  },
  {
   "cell_type": "markdown",
   "metadata": {},
   "source": [
    "The default parameters that control regularization had the highest F1 scores. Dropping a few columns helped increase the F1 score by 0.8%."
   ]
  },
  {
   "cell_type": "markdown",
   "metadata": {},
   "source": [
    "#### Gradient Boosting"
   ]
  },
  {
   "cell_type": "code",
   "execution_count": 19,
   "metadata": {},
   "outputs": [
    {
     "name": "stdout",
     "output_type": "stream",
     "text": [
      "Fitting 5 folds for each of 9 candidates, totalling 45 fits\n"
     ]
    },
    {
     "name": "stderr",
     "output_type": "stream",
     "text": [
      "[Parallel(n_jobs=-1)]: Using backend LokyBackend with 8 concurrent workers.\n",
      "[Parallel(n_jobs=-1)]: Done   2 tasks      | elapsed:   10.1s\n",
      "[Parallel(n_jobs=-1)]: Done  40 out of  45 | elapsed:  1.8min remaining:   13.6s\n",
      "[Parallel(n_jobs=-1)]: Done  45 out of  45 | elapsed:  1.9min finished\n"
     ]
    },
    {
     "data": {
      "text/plain": [
       "{'max_depth': 12, 'min_samples_split': 50}"
      ]
     },
     "execution_count": 19,
     "metadata": {},
     "output_type": "execute_result"
    }
   ],
   "source": [
    "model=GradientBoostingClassifier()\n",
    "\n",
    "param_grid = {\"min_samples_split\": [10, 30, 50], \"max_depth\": [5, 12, 15]}\n",
    "kfold = KFold(n_splits=5)\n",
    "grid_search3 = GridSearchCV(model, param_grid, cv=kfold, scoring='f1', n_jobs=-1, verbose=5)\n",
    "grid_search3.fit(train_X, train_y)\n",
    "grid_search3.best_params_"
   ]
  },
  {
   "cell_type": "code",
   "execution_count": 23,
   "metadata": {},
   "outputs": [
    {
     "data": {
      "text/html": [
       "<div>\n",
       "<style scoped>\n",
       "    .dataframe tbody tr th:only-of-type {\n",
       "        vertical-align: middle;\n",
       "    }\n",
       "\n",
       "    .dataframe tbody tr th {\n",
       "        vertical-align: top;\n",
       "    }\n",
       "\n",
       "    .dataframe thead th {\n",
       "        text-align: right;\n",
       "    }\n",
       "</style>\n",
       "<table border=\"1\" class=\"dataframe\">\n",
       "  <thead>\n",
       "    <tr style=\"text-align: right;\">\n",
       "      <th></th>\n",
       "      <th>mean_fit_time</th>\n",
       "      <th>std_fit_time</th>\n",
       "      <th>mean_score_time</th>\n",
       "      <th>std_score_time</th>\n",
       "      <th>param_max_depth</th>\n",
       "      <th>param_min_samples_split</th>\n",
       "      <th>params</th>\n",
       "      <th>split0_test_score</th>\n",
       "      <th>split1_test_score</th>\n",
       "      <th>split2_test_score</th>\n",
       "      <th>split3_test_score</th>\n",
       "      <th>split4_test_score</th>\n",
       "      <th>mean_test_score</th>\n",
       "      <th>std_test_score</th>\n",
       "      <th>rank_test_score</th>\n",
       "    </tr>\n",
       "  </thead>\n",
       "  <tbody>\n",
       "    <tr>\n",
       "      <th>5</th>\n",
       "      <td>20.098824</td>\n",
       "      <td>0.049391</td>\n",
       "      <td>0.062520</td>\n",
       "      <td>0.001213</td>\n",
       "      <td>12</td>\n",
       "      <td>50</td>\n",
       "      <td>{'max_depth': 12, 'min_samples_split': 50}</td>\n",
       "      <td>0.546163</td>\n",
       "      <td>0.548548</td>\n",
       "      <td>0.554812</td>\n",
       "      <td>0.539172</td>\n",
       "      <td>0.538360</td>\n",
       "      <td>0.545411</td>\n",
       "      <td>0.006123</td>\n",
       "      <td>1</td>\n",
       "    </tr>\n",
       "    <tr>\n",
       "      <th>4</th>\n",
       "      <td>19.807984</td>\n",
       "      <td>0.585802</td>\n",
       "      <td>0.064796</td>\n",
       "      <td>0.002469</td>\n",
       "      <td>12</td>\n",
       "      <td>30</td>\n",
       "      <td>{'max_depth': 12, 'min_samples_split': 30}</td>\n",
       "      <td>0.537694</td>\n",
       "      <td>0.542586</td>\n",
       "      <td>0.546156</td>\n",
       "      <td>0.536845</td>\n",
       "      <td>0.540012</td>\n",
       "      <td>0.540658</td>\n",
       "      <td>0.003397</td>\n",
       "      <td>2</td>\n",
       "    </tr>\n",
       "    <tr>\n",
       "      <th>3</th>\n",
       "      <td>20.810423</td>\n",
       "      <td>0.087306</td>\n",
       "      <td>0.067371</td>\n",
       "      <td>0.001512</td>\n",
       "      <td>12</td>\n",
       "      <td>10</td>\n",
       "      <td>{'max_depth': 12, 'min_samples_split': 10}</td>\n",
       "      <td>0.537579</td>\n",
       "      <td>0.542575</td>\n",
       "      <td>0.549853</td>\n",
       "      <td>0.533058</td>\n",
       "      <td>0.537681</td>\n",
       "      <td>0.540149</td>\n",
       "      <td>0.005710</td>\n",
       "      <td>3</td>\n",
       "    </tr>\n",
       "    <tr>\n",
       "      <th>2</th>\n",
       "      <td>8.572885</td>\n",
       "      <td>0.049406</td>\n",
       "      <td>0.027670</td>\n",
       "      <td>0.001799</td>\n",
       "      <td>5</td>\n",
       "      <td>50</td>\n",
       "      <td>{'max_depth': 5, 'min_samples_split': 50}</td>\n",
       "      <td>0.543292</td>\n",
       "      <td>0.537129</td>\n",
       "      <td>0.549640</td>\n",
       "      <td>0.538084</td>\n",
       "      <td>0.527225</td>\n",
       "      <td>0.539074</td>\n",
       "      <td>0.007411</td>\n",
       "      <td>4</td>\n",
       "    </tr>\n",
       "    <tr>\n",
       "      <th>8</th>\n",
       "      <td>23.044359</td>\n",
       "      <td>0.595383</td>\n",
       "      <td>0.066992</td>\n",
       "      <td>0.008306</td>\n",
       "      <td>15</td>\n",
       "      <td>50</td>\n",
       "      <td>{'max_depth': 15, 'min_samples_split': 50}</td>\n",
       "      <td>0.537203</td>\n",
       "      <td>0.537993</td>\n",
       "      <td>0.551291</td>\n",
       "      <td>0.533020</td>\n",
       "      <td>0.534267</td>\n",
       "      <td>0.538755</td>\n",
       "      <td>0.006530</td>\n",
       "      <td>5</td>\n",
       "    </tr>\n",
       "    <tr>\n",
       "      <th>1</th>\n",
       "      <td>8.638596</td>\n",
       "      <td>0.021887</td>\n",
       "      <td>0.029923</td>\n",
       "      <td>0.006975</td>\n",
       "      <td>5</td>\n",
       "      <td>30</td>\n",
       "      <td>{'max_depth': 5, 'min_samples_split': 30}</td>\n",
       "      <td>0.540696</td>\n",
       "      <td>0.537189</td>\n",
       "      <td>0.548220</td>\n",
       "      <td>0.539281</td>\n",
       "      <td>0.527902</td>\n",
       "      <td>0.538657</td>\n",
       "      <td>0.006540</td>\n",
       "      <td>6</td>\n",
       "    </tr>\n",
       "    <tr>\n",
       "      <th>0</th>\n",
       "      <td>8.657738</td>\n",
       "      <td>0.023658</td>\n",
       "      <td>0.028774</td>\n",
       "      <td>0.002550</td>\n",
       "      <td>5</td>\n",
       "      <td>10</td>\n",
       "      <td>{'max_depth': 5, 'min_samples_split': 10}</td>\n",
       "      <td>0.539970</td>\n",
       "      <td>0.538438</td>\n",
       "      <td>0.551930</td>\n",
       "      <td>0.536555</td>\n",
       "      <td>0.525813</td>\n",
       "      <td>0.538541</td>\n",
       "      <td>0.008334</td>\n",
       "      <td>7</td>\n",
       "    </tr>\n",
       "    <tr>\n",
       "      <th>7</th>\n",
       "      <td>26.311870</td>\n",
       "      <td>0.523468</td>\n",
       "      <td>0.088328</td>\n",
       "      <td>0.002192</td>\n",
       "      <td>15</td>\n",
       "      <td>30</td>\n",
       "      <td>{'max_depth': 15, 'min_samples_split': 30}</td>\n",
       "      <td>0.539007</td>\n",
       "      <td>0.536368</td>\n",
       "      <td>0.542525</td>\n",
       "      <td>0.536064</td>\n",
       "      <td>0.537588</td>\n",
       "      <td>0.538310</td>\n",
       "      <td>0.002349</td>\n",
       "      <td>8</td>\n",
       "    </tr>\n",
       "    <tr>\n",
       "      <th>6</th>\n",
       "      <td>31.531116</td>\n",
       "      <td>0.390477</td>\n",
       "      <td>0.101321</td>\n",
       "      <td>0.001540</td>\n",
       "      <td>15</td>\n",
       "      <td>10</td>\n",
       "      <td>{'max_depth': 15, 'min_samples_split': 10}</td>\n",
       "      <td>0.533615</td>\n",
       "      <td>0.532094</td>\n",
       "      <td>0.542861</td>\n",
       "      <td>0.528933</td>\n",
       "      <td>0.533104</td>\n",
       "      <td>0.534121</td>\n",
       "      <td>0.004663</td>\n",
       "      <td>9</td>\n",
       "    </tr>\n",
       "  </tbody>\n",
       "</table>\n",
       "</div>"
      ],
      "text/plain": [
       "   mean_fit_time  std_fit_time  mean_score_time  std_score_time  \\\n",
       "5      20.098824      0.049391         0.062520        0.001213   \n",
       "4      19.807984      0.585802         0.064796        0.002469   \n",
       "3      20.810423      0.087306         0.067371        0.001512   \n",
       "2       8.572885      0.049406         0.027670        0.001799   \n",
       "8      23.044359      0.595383         0.066992        0.008306   \n",
       "1       8.638596      0.021887         0.029923        0.006975   \n",
       "0       8.657738      0.023658         0.028774        0.002550   \n",
       "7      26.311870      0.523468         0.088328        0.002192   \n",
       "6      31.531116      0.390477         0.101321        0.001540   \n",
       "\n",
       "  param_max_depth param_min_samples_split  \\\n",
       "5              12                      50   \n",
       "4              12                      30   \n",
       "3              12                      10   \n",
       "2               5                      50   \n",
       "8              15                      50   \n",
       "1               5                      30   \n",
       "0               5                      10   \n",
       "7              15                      30   \n",
       "6              15                      10   \n",
       "\n",
       "                                       params  split0_test_score  \\\n",
       "5  {'max_depth': 12, 'min_samples_split': 50}           0.546163   \n",
       "4  {'max_depth': 12, 'min_samples_split': 30}           0.537694   \n",
       "3  {'max_depth': 12, 'min_samples_split': 10}           0.537579   \n",
       "2   {'max_depth': 5, 'min_samples_split': 50}           0.543292   \n",
       "8  {'max_depth': 15, 'min_samples_split': 50}           0.537203   \n",
       "1   {'max_depth': 5, 'min_samples_split': 30}           0.540696   \n",
       "0   {'max_depth': 5, 'min_samples_split': 10}           0.539970   \n",
       "7  {'max_depth': 15, 'min_samples_split': 30}           0.539007   \n",
       "6  {'max_depth': 15, 'min_samples_split': 10}           0.533615   \n",
       "\n",
       "   split1_test_score  split2_test_score  split3_test_score  split4_test_score  \\\n",
       "5           0.548548           0.554812           0.539172           0.538360   \n",
       "4           0.542586           0.546156           0.536845           0.540012   \n",
       "3           0.542575           0.549853           0.533058           0.537681   \n",
       "2           0.537129           0.549640           0.538084           0.527225   \n",
       "8           0.537993           0.551291           0.533020           0.534267   \n",
       "1           0.537189           0.548220           0.539281           0.527902   \n",
       "0           0.538438           0.551930           0.536555           0.525813   \n",
       "7           0.536368           0.542525           0.536064           0.537588   \n",
       "6           0.532094           0.542861           0.528933           0.533104   \n",
       "\n",
       "   mean_test_score  std_test_score  rank_test_score  \n",
       "5         0.545411        0.006123                1  \n",
       "4         0.540658        0.003397                2  \n",
       "3         0.540149        0.005710                3  \n",
       "2         0.539074        0.007411                4  \n",
       "8         0.538755        0.006530                5  \n",
       "1         0.538657        0.006540                6  \n",
       "0         0.538541        0.008334                7  \n",
       "7         0.538310        0.002349                8  \n",
       "6         0.534121        0.004663                9  "
      ]
     },
     "execution_count": 23,
     "metadata": {},
     "output_type": "execute_result"
    }
   ],
   "source": [
    "pd.DataFrame(grid_search3.cv_results_).sort_values(by=\"rank_test_score\")"
   ]
  },
  {
   "cell_type": "code",
   "execution_count": 24,
   "metadata": {},
   "outputs": [
    {
     "name": "stdout",
     "output_type": "stream",
     "text": [
      "Fitting 5 folds for each of 9 candidates, totalling 45 fits\n"
     ]
    },
    {
     "name": "stderr",
     "output_type": "stream",
     "text": [
      "[Parallel(n_jobs=-1)]: Using backend LokyBackend with 8 concurrent workers.\n",
      "[Parallel(n_jobs=-1)]: Done   2 tasks      | elapsed:    7.7s\n",
      "[Parallel(n_jobs=-1)]: Done  40 out of  45 | elapsed:  1.5min remaining:   11.6s\n",
      "[Parallel(n_jobs=-1)]: Done  45 out of  45 | elapsed:  1.6min finished\n"
     ]
    },
    {
     "data": {
      "text/plain": [
       "{'max_depth': 12, 'min_samples_split': 50}"
      ]
     },
     "execution_count": 24,
     "metadata": {},
     "output_type": "execute_result"
    }
   ],
   "source": [
    "model=GradientBoostingClassifier()\n",
    "\n",
    "param_grid = {\"min_samples_split\": [10, 30, 50], \"max_depth\": [5, 12, 15]}\n",
    "kfold = KFold(n_splits=5)\n",
    "grid_search4 = GridSearchCV(model, param_grid, cv=kfold, scoring='f1', n_jobs=-1, verbose=5)\n",
    "grid_search4.fit(train_X2, train_y)\n",
    "grid_search4.best_params_"
   ]
  },
  {
   "cell_type": "code",
   "execution_count": 25,
   "metadata": {},
   "outputs": [
    {
     "data": {
      "text/html": [
       "<div>\n",
       "<style scoped>\n",
       "    .dataframe tbody tr th:only-of-type {\n",
       "        vertical-align: middle;\n",
       "    }\n",
       "\n",
       "    .dataframe tbody tr th {\n",
       "        vertical-align: top;\n",
       "    }\n",
       "\n",
       "    .dataframe thead th {\n",
       "        text-align: right;\n",
       "    }\n",
       "</style>\n",
       "<table border=\"1\" class=\"dataframe\">\n",
       "  <thead>\n",
       "    <tr style=\"text-align: right;\">\n",
       "      <th></th>\n",
       "      <th>mean_fit_time</th>\n",
       "      <th>std_fit_time</th>\n",
       "      <th>mean_score_time</th>\n",
       "      <th>std_score_time</th>\n",
       "      <th>param_max_depth</th>\n",
       "      <th>param_min_samples_split</th>\n",
       "      <th>params</th>\n",
       "      <th>split0_test_score</th>\n",
       "      <th>split1_test_score</th>\n",
       "      <th>split2_test_score</th>\n",
       "      <th>split3_test_score</th>\n",
       "      <th>split4_test_score</th>\n",
       "      <th>mean_test_score</th>\n",
       "      <th>std_test_score</th>\n",
       "      <th>rank_test_score</th>\n",
       "    </tr>\n",
       "  </thead>\n",
       "  <tbody>\n",
       "    <tr>\n",
       "      <th>5</th>\n",
       "      <td>17.508952</td>\n",
       "      <td>0.058941</td>\n",
       "      <td>0.060660</td>\n",
       "      <td>0.003279</td>\n",
       "      <td>12</td>\n",
       "      <td>50</td>\n",
       "      <td>{'max_depth': 12, 'min_samples_split': 50}</td>\n",
       "      <td>0.539417</td>\n",
       "      <td>0.541325</td>\n",
       "      <td>0.550625</td>\n",
       "      <td>0.530375</td>\n",
       "      <td>0.543723</td>\n",
       "      <td>0.541093</td>\n",
       "      <td>0.006565</td>\n",
       "      <td>1</td>\n",
       "    </tr>\n",
       "    <tr>\n",
       "      <th>4</th>\n",
       "      <td>17.148139</td>\n",
       "      <td>0.549761</td>\n",
       "      <td>0.060748</td>\n",
       "      <td>0.004966</td>\n",
       "      <td>12</td>\n",
       "      <td>30</td>\n",
       "      <td>{'max_depth': 12, 'min_samples_split': 30}</td>\n",
       "      <td>0.539528</td>\n",
       "      <td>0.543681</td>\n",
       "      <td>0.548712</td>\n",
       "      <td>0.528447</td>\n",
       "      <td>0.537174</td>\n",
       "      <td>0.539508</td>\n",
       "      <td>0.006781</td>\n",
       "      <td>2</td>\n",
       "    </tr>\n",
       "    <tr>\n",
       "      <th>3</th>\n",
       "      <td>18.019256</td>\n",
       "      <td>0.112273</td>\n",
       "      <td>0.065301</td>\n",
       "      <td>0.003366</td>\n",
       "      <td>12</td>\n",
       "      <td>10</td>\n",
       "      <td>{'max_depth': 12, 'min_samples_split': 10}</td>\n",
       "      <td>0.538451</td>\n",
       "      <td>0.542441</td>\n",
       "      <td>0.545428</td>\n",
       "      <td>0.520714</td>\n",
       "      <td>0.544696</td>\n",
       "      <td>0.538346</td>\n",
       "      <td>0.009145</td>\n",
       "      <td>3</td>\n",
       "    </tr>\n",
       "    <tr>\n",
       "      <th>8</th>\n",
       "      <td>20.027388</td>\n",
       "      <td>0.496115</td>\n",
       "      <td>0.062320</td>\n",
       "      <td>0.007043</td>\n",
       "      <td>15</td>\n",
       "      <td>50</td>\n",
       "      <td>{'max_depth': 15, 'min_samples_split': 50}</td>\n",
       "      <td>0.534907</td>\n",
       "      <td>0.540728</td>\n",
       "      <td>0.541039</td>\n",
       "      <td>0.524633</td>\n",
       "      <td>0.532894</td>\n",
       "      <td>0.534840</td>\n",
       "      <td>0.006018</td>\n",
       "      <td>4</td>\n",
       "    </tr>\n",
       "    <tr>\n",
       "      <th>7</th>\n",
       "      <td>22.762008</td>\n",
       "      <td>0.492581</td>\n",
       "      <td>0.082310</td>\n",
       "      <td>0.001757</td>\n",
       "      <td>15</td>\n",
       "      <td>30</td>\n",
       "      <td>{'max_depth': 15, 'min_samples_split': 30}</td>\n",
       "      <td>0.534475</td>\n",
       "      <td>0.534327</td>\n",
       "      <td>0.534734</td>\n",
       "      <td>0.522423</td>\n",
       "      <td>0.530971</td>\n",
       "      <td>0.531386</td>\n",
       "      <td>0.004689</td>\n",
       "      <td>5</td>\n",
       "    </tr>\n",
       "    <tr>\n",
       "      <th>1</th>\n",
       "      <td>7.478611</td>\n",
       "      <td>0.241330</td>\n",
       "      <td>0.026346</td>\n",
       "      <td>0.002109</td>\n",
       "      <td>5</td>\n",
       "      <td>30</td>\n",
       "      <td>{'max_depth': 5, 'min_samples_split': 30}</td>\n",
       "      <td>0.530619</td>\n",
       "      <td>0.533042</td>\n",
       "      <td>0.542109</td>\n",
       "      <td>0.523373</td>\n",
       "      <td>0.524524</td>\n",
       "      <td>0.530733</td>\n",
       "      <td>0.006745</td>\n",
       "      <td>6</td>\n",
       "    </tr>\n",
       "    <tr>\n",
       "      <th>6</th>\n",
       "      <td>27.222423</td>\n",
       "      <td>0.276596</td>\n",
       "      <td>0.095333</td>\n",
       "      <td>0.002435</td>\n",
       "      <td>15</td>\n",
       "      <td>10</td>\n",
       "      <td>{'max_depth': 15, 'min_samples_split': 10}</td>\n",
       "      <td>0.533775</td>\n",
       "      <td>0.531764</td>\n",
       "      <td>0.535107</td>\n",
       "      <td>0.514649</td>\n",
       "      <td>0.527420</td>\n",
       "      <td>0.528543</td>\n",
       "      <td>0.007418</td>\n",
       "      <td>7</td>\n",
       "    </tr>\n",
       "    <tr>\n",
       "      <th>2</th>\n",
       "      <td>7.180994</td>\n",
       "      <td>0.036198</td>\n",
       "      <td>0.025585</td>\n",
       "      <td>0.002862</td>\n",
       "      <td>5</td>\n",
       "      <td>50</td>\n",
       "      <td>{'max_depth': 5, 'min_samples_split': 50}</td>\n",
       "      <td>0.529854</td>\n",
       "      <td>0.533727</td>\n",
       "      <td>0.537772</td>\n",
       "      <td>0.515480</td>\n",
       "      <td>0.522632</td>\n",
       "      <td>0.527893</td>\n",
       "      <td>0.007965</td>\n",
       "      <td>8</td>\n",
       "    </tr>\n",
       "    <tr>\n",
       "      <th>0</th>\n",
       "      <td>7.628521</td>\n",
       "      <td>0.052347</td>\n",
       "      <td>0.028549</td>\n",
       "      <td>0.003426</td>\n",
       "      <td>5</td>\n",
       "      <td>10</td>\n",
       "      <td>{'max_depth': 5, 'min_samples_split': 10}</td>\n",
       "      <td>0.529801</td>\n",
       "      <td>0.530312</td>\n",
       "      <td>0.539344</td>\n",
       "      <td>0.518061</td>\n",
       "      <td>0.520075</td>\n",
       "      <td>0.527519</td>\n",
       "      <td>0.007716</td>\n",
       "      <td>9</td>\n",
       "    </tr>\n",
       "  </tbody>\n",
       "</table>\n",
       "</div>"
      ],
      "text/plain": [
       "   mean_fit_time  std_fit_time  mean_score_time  std_score_time  \\\n",
       "5      17.508952      0.058941         0.060660        0.003279   \n",
       "4      17.148139      0.549761         0.060748        0.004966   \n",
       "3      18.019256      0.112273         0.065301        0.003366   \n",
       "8      20.027388      0.496115         0.062320        0.007043   \n",
       "7      22.762008      0.492581         0.082310        0.001757   \n",
       "1       7.478611      0.241330         0.026346        0.002109   \n",
       "6      27.222423      0.276596         0.095333        0.002435   \n",
       "2       7.180994      0.036198         0.025585        0.002862   \n",
       "0       7.628521      0.052347         0.028549        0.003426   \n",
       "\n",
       "  param_max_depth param_min_samples_split  \\\n",
       "5              12                      50   \n",
       "4              12                      30   \n",
       "3              12                      10   \n",
       "8              15                      50   \n",
       "7              15                      30   \n",
       "1               5                      30   \n",
       "6              15                      10   \n",
       "2               5                      50   \n",
       "0               5                      10   \n",
       "\n",
       "                                       params  split0_test_score  \\\n",
       "5  {'max_depth': 12, 'min_samples_split': 50}           0.539417   \n",
       "4  {'max_depth': 12, 'min_samples_split': 30}           0.539528   \n",
       "3  {'max_depth': 12, 'min_samples_split': 10}           0.538451   \n",
       "8  {'max_depth': 15, 'min_samples_split': 50}           0.534907   \n",
       "7  {'max_depth': 15, 'min_samples_split': 30}           0.534475   \n",
       "1   {'max_depth': 5, 'min_samples_split': 30}           0.530619   \n",
       "6  {'max_depth': 15, 'min_samples_split': 10}           0.533775   \n",
       "2   {'max_depth': 5, 'min_samples_split': 50}           0.529854   \n",
       "0   {'max_depth': 5, 'min_samples_split': 10}           0.529801   \n",
       "\n",
       "   split1_test_score  split2_test_score  split3_test_score  split4_test_score  \\\n",
       "5           0.541325           0.550625           0.530375           0.543723   \n",
       "4           0.543681           0.548712           0.528447           0.537174   \n",
       "3           0.542441           0.545428           0.520714           0.544696   \n",
       "8           0.540728           0.541039           0.524633           0.532894   \n",
       "7           0.534327           0.534734           0.522423           0.530971   \n",
       "1           0.533042           0.542109           0.523373           0.524524   \n",
       "6           0.531764           0.535107           0.514649           0.527420   \n",
       "2           0.533727           0.537772           0.515480           0.522632   \n",
       "0           0.530312           0.539344           0.518061           0.520075   \n",
       "\n",
       "   mean_test_score  std_test_score  rank_test_score  \n",
       "5         0.541093        0.006565                1  \n",
       "4         0.539508        0.006781                2  \n",
       "3         0.538346        0.009145                3  \n",
       "8         0.534840        0.006018                4  \n",
       "7         0.531386        0.004689                5  \n",
       "1         0.530733        0.006745                6  \n",
       "6         0.528543        0.007418                7  \n",
       "2         0.527893        0.007965                8  \n",
       "0         0.527519        0.007716                9  "
      ]
     },
     "execution_count": 25,
     "metadata": {},
     "output_type": "execute_result"
    }
   ],
   "source": [
    "pd.DataFrame(grid_search4.cv_results_).sort_values(by=\"rank_test_score\")"
   ]
  },
  {
   "cell_type": "markdown",
   "metadata": {},
   "source": [
    "The best performing model is the Gradient Boosting Classifier with the tree-specific hyperparameters of `max_depth=12` and `min_samples_split=50`. The F1 score is 54%, which is better than the original 52% without tuning. Using the entire test dataset features was only 0.4% better than dropping 3 features."
   ]
  },
  {
   "cell_type": "markdown",
   "metadata": {},
   "source": [
    "## Model Evaluation"
   ]
  },
  {
   "cell_type": "code",
   "execution_count": 52,
   "metadata": {},
   "outputs": [],
   "source": [
    "import matplotlib.pyplot as plt\n",
    "from sklearn.metrics import plot_confusion_matrix"
   ]
  },
  {
   "cell_type": "code",
   "execution_count": 35,
   "metadata": {},
   "outputs": [
    {
     "name": "stdout",
     "output_type": "stream",
     "text": [
      "Accuracy: 72.5%\n",
      "F1: 56.5%\n",
      "Precision: 64.4%\n",
      "Recall: 50.2%\n"
     ]
    }
   ],
   "source": [
    "model=GradientBoostingClassifier(random_state=42, **{'max_depth': 12, 'min_samples_split': 50})\n",
    "model.fit(train_X, train_y)\n",
    "\n",
    "run_model(\"Gradient Boosting (tuned)\", model, train_X, train_y, test_X, test_y)"
   ]
  },
  {
   "cell_type": "markdown",
   "metadata": {},
   "source": [
    "We achieved higher scores than the benchmark and untuned model!"
   ]
  },
  {
   "cell_type": "code",
   "execution_count": 51,
   "metadata": {},
   "outputs": [
    {
     "data": {
      "image/png": "[encoded data removed]",
      "text/plain": [
       "<Figure size 576x288 with 1 Axes>"
      ]
     },
     "metadata": {
      "needs_background": "light"
     },
     "output_type": "display_data"
    }
   ],
   "source": [
    "fig, ax = plt.subplots(figsize=[8,4])\n",
    "fig.suptitle(\"Feature Importance\")\n",
    "\n",
    "ax.bar(range(len(model.feature_importances_)), model.feature_importances_)\n",
    "plt.xticks(rotation=90)\n",
    "ax.set_xticks(np.arange(len(train.columns[1:])))\n",
    "ax.set_xticklabels(train.columns[1:])\n",
    "\n",
    "plt.show()"
   ]
  },
  {
   "cell_type": "code",
   "execution_count": 54,
   "metadata": {},
   "outputs": [
    {
     "data": {
      "text/plain": [
       "<sklearn.metrics._plot.confusion_matrix.ConfusionMatrixDisplay at 0x7fe3a1013850>"
      ]
     },
     "execution_count": 54,
     "metadata": {},
     "output_type": "execute_result"
    },
    {
     "data": {
      "image/png": "[encoded data removed]",
      "text/plain": [
       "<Figure size 432x288 with 2 Axes>"
      ]
     },
     "metadata": {
      "needs_background": "light"
     },
     "output_type": "display_data"
    }
   ],
   "source": [
    "plot_confusion_matrix(model, test_X, test_y)  "
   ]
  },
  {
   "cell_type": "markdown",
   "metadata": {},
   "source": []
  },
  {
   "cell_type": "markdown",
   "metadata": {},
   "source": []
  }
 ],
 "metadata": {
  "kernelspec": {
   "display_name": "Python 3",
   "language": "python",
   "name": "python3"
  },
  "language_info": {
   "codemirror_mode": {
    "name": "ipython",
    "version": 3
   },
   "file_extension": ".py",
   "mimetype": "text/x-python",
   "name": "python",
   "nbconvert_exporter": "python",
   "pygments_lexer": "ipython3",
   "version": "3.8.5"
  }
 },
 "nbformat": 4,
 "nbformat_minor": 4
}
